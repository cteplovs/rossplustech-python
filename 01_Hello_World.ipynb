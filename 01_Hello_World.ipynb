{
 "cells": [
  {
   "cell_type": "markdown",
   "id": "5db4cff4-f25e-457a-a7d4-78b97b8c4346",
   "metadata": {},
   "source": [
    "# Welcome and Introduction"
   ]
  },
  {
   "cell_type": "markdown",
   "id": "c11c4eb9-0785-4a6d-8a72-190ef4e3b581",
   "metadata": {},
   "source": [
    "The print() function."
   ]
  },
  {
   "cell_type": "code",
   "execution_count": null,
   "id": "973d2b93-c826-4514-99ba-29f57eb47888",
   "metadata": {},
   "outputs": [],
   "source": [
    "print(\"Hello, world\")"
   ]
  },
  {
   "cell_type": "code",
   "execution_count": null,
   "id": "5a2a1866-632d-408c-9a2b-b4dd6cba0286",
   "metadata": {},
   "outputs": [],
   "source": [
    "my_name = \"Put Your Name Here\""
   ]
  },
  {
   "cell_type": "code",
   "execution_count": null,
   "id": "8e3e65ca-0682-4fe9-a005-5e474bbb846d",
   "metadata": {},
   "outputs": [],
   "source": [
    "print(my_name)"
   ]
  },
  {
   "cell_type": "code",
   "execution_count": null,
   "id": "3331565d-770a-46a1-b5fe-aee273546922",
   "metadata": {},
   "outputs": [],
   "source": [
    "print(\"Hello \" + my_name)"
   ]
  },
  {
   "cell_type": "markdown",
   "id": "c266d285-41d3-4270-8d26-5f4fdb4cd9d8",
   "metadata": {},
   "source": [
    "## Lists and loops"
   ]
  },
  {
   "cell_type": "code",
   "execution_count": null,
   "id": "83b8c9a8-419a-4dcc-8bc5-3f7b61fc34ea",
   "metadata": {},
   "outputs": [],
   "source": [
    "for i in [1,2,3,4,5]:\n",
    "    print(\"Hello, world!\")"
   ]
  },
  {
   "cell_type": "code",
   "execution_count": null,
   "id": "3a5d3f19-9eff-4dba-bb81-b6e54e744de7",
   "metadata": {},
   "outputs": [],
   "source": [
    "for i in [1,2,3,4,5]:\n",
    "    print(i)"
   ]
  },
  {
   "cell_type": "markdown",
   "id": "44303a8a-a211-43d8-8c29-2e46772373ce",
   "metadata": {},
   "source": [
    "### Challenge: write code to print the numbers 10,100,1000"
   ]
  },
  {
   "cell_type": "code",
   "execution_count": null,
   "id": "97ac3f86-51b4-4fce-b0b3-944162a15102",
   "metadata": {},
   "outputs": [],
   "source": [
    "# insert your code here"
   ]
  },
  {
   "cell_type": "markdown",
   "id": "bb47f9cd-f5d1-4a50-b739-4f99d8fa6d79",
   "metadata": {},
   "source": [
    "## Conditionals"
   ]
  },
  {
   "cell_type": "code",
   "execution_count": null,
   "id": "f1c1c727-e10f-4b4a-b40c-f631601f82bc",
   "metadata": {},
   "outputs": [],
   "source": [
    "something = 84\n",
    "\n",
    "if (something) < 50:\n",
    "    print(\"Something is less than 50\")\n",
    "else:\n",
    "    print(\"Something is not less than 50\")"
   ]
  },
  {
   "cell_type": "code",
   "execution_count": null,
   "id": "d2c21bfc-7caa-4693-9bf6-9521b2ababbd",
   "metadata": {},
   "outputs": [],
   "source": []
  }
 ],
 "metadata": {
  "kernelspec": {
   "display_name": "Python 3 (ipykernel)",
   "language": "python",
   "name": "python3"
  },
  "language_info": {
   "codemirror_mode": {
    "name": "ipython",
    "version": 3
   },
   "file_extension": ".py",
   "mimetype": "text/x-python",
   "name": "python",
   "nbconvert_exporter": "python",
   "pygments_lexer": "ipython3",
   "version": "3.9.7"
  }
 },
 "nbformat": 4,
 "nbformat_minor": 5
}
