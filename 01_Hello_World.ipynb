{
 "cells": [
  {
   "cell_type": "markdown",
   "id": "5db4cff4-f25e-457a-a7d4-78b97b8c4346",
   "metadata": {
    "tags": []
   },
   "source": [
    "# Welcome and Introduction"
   ]
  },
  {
   "cell_type": "markdown",
   "id": "457d936e-0906-461d-b878-2a483f3b94ef",
   "metadata": {},
   "source": [
    "This (very brief) bootcamp/workshop consists of five Jupyter notebooks:\n",
    "1. (This notebook)\n",
    "2. [Reading Data](./02_Reading_Data.ipynb)\n",
    "3. [Visualization](./03_Visualization.ipynb)\n",
    "4. [Text Processing](./04_Text_Processing.ipynb)\n",
    "5. [Time Series Analysis](./05_Time_Series_Analysis.ipynb)\n",
    "\n",
    "There is also a brief [slide deck](./Ross-Python-Bootcamp.pptx)."
   ]
  },
  {
   "cell_type": "markdown",
   "id": "c11c4eb9-0785-4a6d-8a72-190ef4e3b581",
   "metadata": {},
   "source": [
    "The traditional approach to teaching a programming language is to print out \"Hello, world!\", so let's do that:"
   ]
  },
  {
   "cell_type": "code",
   "execution_count": null,
   "id": "973d2b93-c826-4514-99ba-29f57eb47888",
   "metadata": {},
   "outputs": [],
   "source": [
    "print(\"Hello, world!\")"
   ]
  },
  {
   "cell_type": "markdown",
   "id": "86c19d3a-5888-4a43-bc98-d6dad0064de9",
   "metadata": {},
   "source": [
    "Then we go on to demonstrate assignment of a value to a variable:"
   ]
  },
  {
   "cell_type": "code",
   "execution_count": null,
   "id": "5a2a1866-632d-408c-9a2b-b4dd6cba0286",
   "metadata": {},
   "outputs": [],
   "source": [
    "my_name = \"Put Your Name Here\""
   ]
  },
  {
   "cell_type": "markdown",
   "id": "ec792b3e-a9cc-45b3-adc7-4b0cdcf3f227",
   "metadata": {},
   "source": [
    "and print it out:"
   ]
  },
  {
   "cell_type": "code",
   "execution_count": null,
   "id": "8e3e65ca-0682-4fe9-a005-5e474bbb846d",
   "metadata": {},
   "outputs": [],
   "source": [
    "print(my_name)"
   ]
  },
  {
   "cell_type": "markdown",
   "id": "664d3887-bd57-409f-bc1a-b2883b9b975e",
   "metadata": {},
   "source": [
    "Then we demonstrate some simple data manipulation:"
   ]
  },
  {
   "cell_type": "code",
   "execution_count": null,
   "id": "3331565d-770a-46a1-b5fe-aee273546922",
   "metadata": {},
   "outputs": [],
   "source": [
    "print(\"Hello \" + my_name)"
   ]
  },
  {
   "cell_type": "markdown",
   "id": "c266d285-41d3-4270-8d26-5f4fdb4cd9d8",
   "metadata": {},
   "source": [
    "## Lists and loops"
   ]
  },
  {
   "cell_type": "markdown",
   "id": "2e3bb7ef-d67f-45df-9819-0a11d86b4122",
   "metadata": {},
   "source": [
    "A lot of what we do with computers involves doing the same thing over and over, so we tend to use a lot of looping commands.  One \n",
    "of the most common ways to loop is to use a `for` statement:"
   ]
  },
  {
   "cell_type": "code",
   "execution_count": null,
   "id": "83b8c9a8-419a-4dcc-8bc5-3f7b61fc34ea",
   "metadata": {},
   "outputs": [],
   "source": [
    "for i in [1,2,3,4,5]:\n",
    "    print(\"Hello, world!\")"
   ]
  },
  {
   "cell_type": "code",
   "execution_count": null,
   "id": "3a5d3f19-9eff-4dba-bb81-b6e54e744de7",
   "metadata": {},
   "outputs": [],
   "source": [
    "for i in [1,2,3,4,5]:\n",
    "    print(i)"
   ]
  },
  {
   "cell_type": "markdown",
   "id": "44303a8a-a211-43d8-8c29-2e46772373ce",
   "metadata": {},
   "source": [
    "### Challenge: use a `for` loop to print the numbers 10, 100, and 1000 (in a vertical line like the previous example)"
   ]
  },
  {
   "cell_type": "code",
   "execution_count": null,
   "id": "97ac3f86-51b4-4fce-b0b3-944162a15102",
   "metadata": {},
   "outputs": [],
   "source": [
    "# insert your code here"
   ]
  },
  {
   "cell_type": "markdown",
   "id": "bb47f9cd-f5d1-4a50-b739-4f99d8fa6d79",
   "metadata": {},
   "source": [
    "## Conditionals"
   ]
  },
  {
   "cell_type": "markdown",
   "id": "c9354d7c-2273-4ee6-b227-da96f82a5861",
   "metadata": {},
   "source": [
    "The other very common _flow control_ is the conditional, which allows you to take different actions based on some property:"
   ]
  },
  {
   "cell_type": "code",
   "execution_count": null,
   "id": "f1c1c727-e10f-4b4a-b40c-f631601f82bc",
   "metadata": {},
   "outputs": [],
   "source": [
    "something = 84\n",
    "\n",
    "if something < 50:\n",
    "    print(\"Something is less than 50\")\n",
    "else:\n",
    "    print(\"Something is not less than 50\")"
   ]
  },
  {
   "cell_type": "markdown",
   "id": "11a41385-289b-48c4-917f-b06d55275904",
   "metadata": {},
   "source": [
    "We can make things a bit more complex by handling more than one case using `elif` (\"else if\"):"
   ]
  },
  {
   "cell_type": "code",
   "execution_count": null,
   "id": "78af9387-fa76-4c89-8adf-68cf543d1ab3",
   "metadata": {},
   "outputs": [],
   "source": [
    "something = 42\n",
    "\n",
    "if something < 10:\n",
    "    print(f\"{something} is a small number.\")\n",
    "elif something < 100:\n",
    "    print(f\"{something} is neither small nor large.\")\n",
    "else:\n",
    "    print(f\"{something} is a large number.\")"
   ]
  },
  {
   "cell_type": "markdown",
   "id": "1736c689-3830-40c6-adc4-db78c3981c3a",
   "metadata": {},
   "source": [
    "## Some things to note about python\n",
    "* indentation matters\n",
    "* errors can be scary\n",
    "* it's easy to make changes and see the results quickly\n",
    "* it reads (reasonably) well\n",
    "\n"
   ]
  },
  {
   "cell_type": "markdown",
   "id": "0b322ed2-7993-4501-a127-80a7ba1d5610",
   "metadata": {},
   "source": [
    "### Challenge: Write some code that:\n",
    "1. Uses a `for` loop\n",
    "2. Uses an `if` statement\n",
    "\n",
    "That is, can you write some code that combines the two?"
   ]
  },
  {
   "cell_type": "code",
   "execution_count": null,
   "id": "bb90ebb1-ba2c-4fe5-ba54-0e3baa6f5d2f",
   "metadata": {},
   "outputs": [],
   "source": []
  }
 ],
 "metadata": {
  "kernelspec": {
   "display_name": "Python 3 (ipykernel)",
   "language": "python",
   "name": "python3"
  },
  "language_info": {
   "codemirror_mode": {
    "name": "ipython",
    "version": 3
   },
   "file_extension": ".py",
   "mimetype": "text/x-python",
   "name": "python",
   "nbconvert_exporter": "python",
   "pygments_lexer": "ipython3",
   "version": "3.9.7"
  }
 },
 "nbformat": 4,
 "nbformat_minor": 5
}
