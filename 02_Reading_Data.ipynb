{
 "cells": [
  {
   "cell_type": "markdown",
   "id": "6027ee5c-cb40-411f-b5e0-64407c42f107",
   "metadata": {},
   "source": [
    "# Reading Data and Simple Manipulations"
   ]
  },
  {
   "cell_type": "markdown",
   "id": "4344de50-5d34-40be-9a40-0319df6203f8",
   "metadata": {},
   "source": [
    "Data scientists use the `pandas` library a lot in their work.  We tend to think of it as\n",
    "our main workhorse, and there's a lot that we can do with it.\n",
    "\n",
    "In python, we use the `import` statement to give us access to libraries.  The following line\n",
    "imports the `pandas` library and allows us to refer to it as `pd` (data scientists are lazy and type poorly):"
   ]
  },
  {
   "cell_type": "code",
   "execution_count": null,
   "id": "cc619594-5267-4427-b2bf-2d260c1dea33",
   "metadata": {},
   "outputs": [],
   "source": [
    "import pandas as pd"
   ]
  },
  {
   "cell_type": "markdown",
   "id": "f690bfa2-5713-4176-9165-7b84c4975fe8",
   "metadata": {},
   "source": [
    "## Reading data"
   ]
  },
  {
   "cell_type": "markdown",
   "id": "d661ce84-293d-40c4-8cb5-e2de0f0934ea",
   "metadata": {},
   "source": [
    "Next, let's read a CSV file into a DataFrame (which is basically a table).  \n",
    "This particular file contains nutritional information from McDonalds.  It was released by McDonalds in 2015 and is \n",
    "available via https://www.kaggle.com/mcdonalds/nutrition-facts"
   ]
  },
  {
   "cell_type": "code",
   "execution_count": null,
   "id": "2384e175-5ed8-44e8-b4d4-296799d17045",
   "metadata": {},
   "outputs": [],
   "source": [
    "mcdonalds = pd.read_csv(\"menu.csv\")"
   ]
  },
  {
   "cell_type": "markdown",
   "id": "dc7e231e-a6be-4329-93c8-a2a75c482e57",
   "metadata": {},
   "source": [
    "Running the next block will \"evaluate\" the DataFrame.  What that usually means is that we're going to \n",
    "print it to the notebook:"
   ]
  },
  {
   "cell_type": "code",
   "execution_count": null,
   "id": "56c2a205-b7b6-4ff4-96f2-432d1f280f65",
   "metadata": {},
   "outputs": [],
   "source": [
    "mcdonalds"
   ]
  },
  {
   "cell_type": "markdown",
   "id": "f27bca71-455f-43df-b3c4-52b17f6732b6",
   "metadata": {},
   "source": [
    "## Simple manipulations"
   ]
  },
  {
   "cell_type": "markdown",
   "id": "6e621fdb-5315-40bc-8c61-8a39384a086d",
   "metadata": {},
   "source": [
    "We can look at the different parts of a DataFrame:\n"
   ]
  },
  {
   "cell_type": "code",
   "execution_count": null,
   "id": "04bae040-ef38-4880-8bba-92fef3dce6bd",
   "metadata": {},
   "outputs": [],
   "source": [
    "mcdonalds.columns"
   ]
  },
  {
   "cell_type": "code",
   "execution_count": null,
   "id": "1e57c54a-35ff-449a-b91a-96bed8efacb8",
   "metadata": {},
   "outputs": [],
   "source": [
    "mcdonalds.shape"
   ]
  },
  {
   "cell_type": "code",
   "execution_count": null,
   "id": "c7c65aa8-ec30-4517-9639-161c1731eb71",
   "metadata": {},
   "outputs": [],
   "source": [
    "mcdonalds.head()"
   ]
  },
  {
   "cell_type": "code",
   "execution_count": null,
   "id": "3ab0a74e-41cc-4eb0-88ce-797b50f70c80",
   "metadata": {},
   "outputs": [],
   "source": [
    "mcdonalds.tail()"
   ]
  },
  {
   "cell_type": "code",
   "execution_count": null,
   "id": "23b0a78c-08a9-446d-853c-8440ddfa17ae",
   "metadata": {},
   "outputs": [],
   "source": [
    "mcdonalds['Calories']"
   ]
  },
  {
   "cell_type": "markdown",
   "id": "dead9107-f5d5-46a1-8269-d286aa0fb592",
   "metadata": {
    "tags": []
   },
   "source": [
    "## Simple statistics"
   ]
  },
  {
   "cell_type": "code",
   "execution_count": null,
   "id": "089c741c-7e5c-4319-b069-5b9aa8bc9d1e",
   "metadata": {},
   "outputs": [],
   "source": [
    "mcdonalds['Calories'].mean()"
   ]
  },
  {
   "cell_type": "code",
   "execution_count": null,
   "id": "4c09403d-5dd8-4df1-b6d3-2711e0e1e6ee",
   "metadata": {},
   "outputs": [],
   "source": [
    "mcdonalds['Calories'].sum()"
   ]
  },
  {
   "cell_type": "code",
   "execution_count": null,
   "id": "15d396e0-30cb-47b0-b5c7-5e1a18897b0c",
   "metadata": {},
   "outputs": [],
   "source": [
    "mcdonalds['Calories'].count()"
   ]
  },
  {
   "cell_type": "code",
   "execution_count": null,
   "id": "7af4cfd4-7c07-40c7-a32c-712c34f0e270",
   "metadata": {},
   "outputs": [],
   "source": [
    "mcdonalds.describe()"
   ]
  },
  {
   "cell_type": "markdown",
   "id": "5f49eca4-74d9-431d-a644-a91b2790aa91",
   "metadata": {},
   "source": [
    "## Split-apply-combine"
   ]
  },
  {
   "cell_type": "code",
   "execution_count": null,
   "id": "28dac80b-5d8c-4f80-abb3-5e6cb93c3a3d",
   "metadata": {},
   "outputs": [],
   "source": [
    "mcdonalds['Category'].value_counts()"
   ]
  },
  {
   "cell_type": "code",
   "execution_count": null,
   "id": "f8342083-c8a3-4267-94e5-38113fd73a8c",
   "metadata": {},
   "outputs": [],
   "source": [
    "mcdonalds[mcdonalds[\"Category\"] == \"Salads\"]"
   ]
  },
  {
   "cell_type": "code",
   "execution_count": null,
   "id": "4abeb80d-b303-4788-a6b8-72512f74cbae",
   "metadata": {},
   "outputs": [],
   "source": [
    "mcdonalds.query(\"Category == 'Salads'\")"
   ]
  },
  {
   "cell_type": "code",
   "execution_count": null,
   "id": "68868e91-b700-4bd3-b5f4-c27c7839d165",
   "metadata": {},
   "outputs": [],
   "source": [
    "mcdonalds.groupby('Category')['Calories'].mean()"
   ]
  },
  {
   "cell_type": "markdown",
   "id": "3e737508-e734-4d84-9cdf-e5a3268d6e27",
   "metadata": {},
   "source": [
    "### Example: Which menu item has the most calories?"
   ]
  },
  {
   "cell_type": "code",
   "execution_count": null,
   "id": "76e2c73d-c5c0-4b65-a2dc-648238273986",
   "metadata": {},
   "outputs": [],
   "source": [
    "# Solution\n",
    "mcdonalds.sort_values('Calories',ascending=False)"
   ]
  },
  {
   "cell_type": "markdown",
   "id": "1f054d96-0193-468a-aa92-9e0f40e93873",
   "metadata": {},
   "source": [
    "### Challenge: Come up with a question that could be answered with this data set"
   ]
  },
  {
   "cell_type": "code",
   "execution_count": null,
   "id": "28c71081-d1a5-4193-8c5a-3987be68531e",
   "metadata": {},
   "outputs": [],
   "source": []
  }
 ],
 "metadata": {
  "kernelspec": {
   "display_name": "Python 3 (ipykernel)",
   "language": "python",
   "name": "python3"
  },
  "language_info": {
   "codemirror_mode": {
    "name": "ipython",
    "version": 3
   },
   "file_extension": ".py",
   "mimetype": "text/x-python",
   "name": "python",
   "nbconvert_exporter": "python",
   "pygments_lexer": "ipython3",
   "version": "3.7.10"
  }
 },
 "nbformat": 4,
 "nbformat_minor": 5
}
