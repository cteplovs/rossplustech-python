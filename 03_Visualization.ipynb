{
 "cells": [
  {
   "cell_type": "markdown",
   "id": "bf40bc97-b7c3-4db6-a44c-0d21213c761d",
   "metadata": {
    "tags": []
   },
   "source": [
    "# Visualization"
   ]
  },
  {
   "cell_type": "code",
   "execution_count": null,
   "id": "5fc30f1e-eb4d-49ee-8b64-ee9e9a78dae5",
   "metadata": {},
   "outputs": [],
   "source": [
    "import pandas as pd\n",
    "import numpy as np"
   ]
  },
  {
   "cell_type": "code",
   "execution_count": null,
   "id": "90807aa6-8f6d-4497-bfb3-af59bc70d554",
   "metadata": {},
   "outputs": [],
   "source": [
    "import seaborn as sns # Samuel Norman \"Sam\" Seaborn is a fictional character portrayed by Rob Lowe on the television serial drama The West Wing."
   ]
  },
  {
   "cell_type": "code",
   "execution_count": null,
   "id": "5bb5bdd5-938d-4f5b-84e4-2662d2c4f644",
   "metadata": {},
   "outputs": [],
   "source": [
    "# From https://www.kaggle.com/imakash3011/customer-personality-analysis"
   ]
  },
  {
   "cell_type": "markdown",
   "id": "0bd88917-b53b-4071-ad58-3ed7c64af523",
   "metadata": {},
   "source": [
    "About this file\n",
    "Customer Personality Analysis is a detailed analysis of a company’s ideal customers. It helps a business to better understand its customers and makes it easier for them to modify products according to the specific needs, behaviors and concerns of different types of customers.\n",
    "\n",
    "Customer personality analysis helps a business to modify its product based on its target customers from different types of customer segments. For example, instead of spending money to market a new product to every customer in the company’s database, a company can analyze which customer segment is most likely to buy the product and then market the product only on that particular segment."
   ]
  },
  {
   "cell_type": "code",
   "execution_count": null,
   "id": "2e6081b2-59e9-4ea7-8552-4c788f9eaac6",
   "metadata": {},
   "outputs": [],
   "source": [
    "customer_personality_analysis = pd.read_csv('marketing_campaign.csv', sep='\\t')"
   ]
  },
  {
   "cell_type": "code",
   "execution_count": null,
   "id": "dfd64c0c-842f-4a80-886f-3ba837afdb33",
   "metadata": {},
   "outputs": [],
   "source": [
    "customer_personality_analysis.head()"
   ]
  },
  {
   "cell_type": "code",
   "execution_count": null,
   "id": "d0663f1e-0e71-4e90-a4a2-68b1670cc448",
   "metadata": {},
   "outputs": [],
   "source": [
    "customer_personality_analysis.describe().T"
   ]
  },
  {
   "cell_type": "markdown",
   "id": "057b810c-1a22-4be1-96cb-cdf4fdf46b68",
   "metadata": {},
   "source": [
    "### Univariate Plots (Histograms and Bar Charts)"
   ]
  },
  {
   "cell_type": "code",
   "execution_count": null,
   "id": "54deb4ca-8391-4a4c-8b04-1460365fec35",
   "metadata": {},
   "outputs": [],
   "source": [
    "sns.displot(customer_personality_analysis.Income)"
   ]
  },
  {
   "cell_type": "code",
   "execution_count": null,
   "id": "01d8ffd0-54d6-4add-86d6-01b6330b49aa",
   "metadata": {},
   "outputs": [],
   "source": [
    "customer_personality_analysis.sort_values('Income',ascending=False)"
   ]
  },
  {
   "cell_type": "code",
   "execution_count": null,
   "id": "272bd4af-7e9d-47ed-acbc-19fbc83a8320",
   "metadata": {},
   "outputs": [],
   "source": [
    "customer_personality_analysis_no_outlier = customer_personality_analysis.drop(2233)"
   ]
  },
  {
   "cell_type": "code",
   "execution_count": null,
   "id": "7bfbefae-050a-4bc9-9636-29d82627cf85",
   "metadata": {},
   "outputs": [],
   "source": [
    "sns.displot(customer_personality_analysis_no_outlier.Income)"
   ]
  },
  {
   "cell_type": "code",
   "execution_count": null,
   "id": "9d1fb374-9a0a-4a67-a9b9-9450b7f1a14b",
   "metadata": {},
   "outputs": [],
   "source": [
    "customer_personality_analysis_no_outlier.Education.value_counts()"
   ]
  },
  {
   "cell_type": "code",
   "execution_count": null,
   "id": "cb936294-7d52-4fbb-a49d-dc7fa20a117c",
   "metadata": {},
   "outputs": [],
   "source": [
    "sns.countplot(data=customer_personality_analysis_no_outlier, x='Education')"
   ]
  },
  {
   "cell_type": "code",
   "execution_count": null,
   "id": "d1015b99-2ee9-4200-844e-76e7031ddf38",
   "metadata": {},
   "outputs": [],
   "source": [
    "sns.boxplot(data=customer_personality_analysis_no_outlier,y=\"Income\")"
   ]
  },
  {
   "cell_type": "code",
   "execution_count": null,
   "id": "b743068b-86c4-465e-a66d-2c944dc4b4d8",
   "metadata": {},
   "outputs": [],
   "source": [
    "sns.boxplot(data=customer_personality_analysis_no_outlier,x=\"Education\",y=\"Income\")"
   ]
  },
  {
   "cell_type": "markdown",
   "id": "a375bc65-be87-4f2e-989a-6de0abdb449e",
   "metadata": {},
   "source": [
    "### Multivariate Plots\n",
    "Two or more variables (and often the relationships between them):"
   ]
  },
  {
   "cell_type": "code",
   "execution_count": null,
   "id": "0980acf9-9920-45d3-9280-a2d0ae045ccf",
   "metadata": {},
   "outputs": [],
   "source": [
    "sns.scatterplot(data=customer_personality_analysis_no_outlier,x='MntWines',y='MntMeatProducts')"
   ]
  },
  {
   "cell_type": "code",
   "execution_count": null,
   "id": "94739160-d800-4606-ae9e-95a08fc9fac8",
   "metadata": {},
   "outputs": [],
   "source": [
    "sns.jointplot(data=customer_personality_analysis_no_outlier,x='MntWines',y='MntMeatProducts')"
   ]
  },
  {
   "cell_type": "code",
   "execution_count": null,
   "id": "6b9d3cf0-2d02-49fa-acdb-0db49578bc35",
   "metadata": {},
   "outputs": [],
   "source": [
    "sns.pairplot(customer_personality_analysis_no_outlier, vars=['MntWines','MntFruits','MntMeatProducts'], hue=\"Teenhome\")"
   ]
  },
  {
   "cell_type": "markdown",
   "id": "7e0bd7d6-8cf5-4166-97a7-4552be6b5412",
   "metadata": {},
   "source": [
    "### Challenge: Copy the contents of the previous cell and change \"Teenhome\" to \"Kidhome\"\n",
    "What insights do you get from looking at the resulting visualization?"
   ]
  }
 ],
 "metadata": {
  "kernelspec": {
   "display_name": "Python 3 (ipykernel)",
   "language": "python",
   "name": "python3"
  },
  "language_info": {
   "codemirror_mode": {
    "name": "ipython",
    "version": 3
   },
   "file_extension": ".py",
   "mimetype": "text/x-python",
   "name": "python",
   "nbconvert_exporter": "python",
   "pygments_lexer": "ipython3",
   "version": "3.7.10"
  }
 },
 "nbformat": 4,
 "nbformat_minor": 5
}
