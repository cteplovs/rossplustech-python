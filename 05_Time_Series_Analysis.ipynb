{
 "cells": [
  {
   "cell_type": "markdown",
   "id": "a0be3549-d52e-472e-b519-59ff3cb55987",
   "metadata": {},
   "source": [
    "# Machine Learning (and Time Series Analysis)"
   ]
  },
  {
   "cell_type": "markdown",
   "id": "3094bae2-05a5-4bb3-b9b6-ee5ed9376742",
   "metadata": {},
   "source": [
    "Based on https://www.kaggle.com/shereshevsky/a-modern-time-series-tutorial/notebook"
   ]
  },
  {
   "cell_type": "code",
   "execution_count": null,
   "id": "85f04d63-b522-4906-9644-f13126a49843",
   "metadata": {},
   "outputs": [],
   "source": [
    "import numpy as np\n",
    "import pandas as pd\n",
    "\n",
    "\n",
    "from matplotlib import pyplot as plt\n",
    "from pmdarima import auto_arima\n",
    "from sklearn.metrics import mean_absolute_error, mean_squared_error\n",
    "\n",
    "myfavouritenumber = 42\n",
    "seed = myfavouritenumber\n",
    "np.random.seed(seed)"
   ]
  },
  {
   "cell_type": "code",
   "execution_count": null,
   "id": "9bfe9bf9-30a5-4049-8a53-be45f81fcfb3",
   "metadata": {},
   "outputs": [],
   "source": [
    "df = pd.read_csv(\"BAJAJFINSV.csv\", parse_dates=[\"Date\"])\n",
    "df.set_index(\"Date\", drop=False, inplace=True)\n",
    "df.head(10)"
   ]
  },
  {
   "cell_type": "code",
   "execution_count": null,
   "id": "e58fb10e-7a09-455d-bd69-3f9e6f97c55c",
   "metadata": {},
   "outputs": [],
   "source": [
    "df.index.is_monotonic, df.index.is_unique"
   ]
  },
  {
   "cell_type": "code",
   "execution_count": null,
   "id": "0e2a030f-8016-4e9d-a97e-371ea4e8d2cc",
   "metadata": {},
   "outputs": [],
   "source": [
    "df.shape"
   ]
  },
  {
   "cell_type": "code",
   "execution_count": null,
   "id": "928db73f-4d92-42f7-b18b-001521071259",
   "metadata": {},
   "outputs": [],
   "source": [
    "new_idx = pd.date_range(\"2008-05-26\", \"2021-04-30\", freq=\"1D\")"
   ]
  },
  {
   "cell_type": "code",
   "execution_count": null,
   "id": "0ee93aa7-3ace-456e-9fd6-ce2c4a16e515",
   "metadata": {},
   "outputs": [],
   "source": [
    "df = df.reindex(new_idx)"
   ]
  },
  {
   "cell_type": "code",
   "execution_count": null,
   "id": "8ce71e9f-0118-4b3c-bbb1-8c0320c4b41e",
   "metadata": {},
   "outputs": [],
   "source": [
    "df.head(10)"
   ]
  },
  {
   "cell_type": "code",
   "execution_count": null,
   "id": "20331e6b-30b2-48ab-ae0c-12d271064ad8",
   "metadata": {},
   "outputs": [],
   "source": [
    "df.shape"
   ]
  },
  {
   "cell_type": "code",
   "execution_count": null,
   "id": "cac27b1a-d54c-4a1e-8e2f-d50abebf5c53",
   "metadata": {},
   "outputs": [],
   "source": [
    "df.plot(x='Date',y='VWAP')"
   ]
  },
  {
   "cell_type": "code",
   "execution_count": null,
   "id": "aec75c5e-5bfd-47d0-9d97-c70873c2e4d5",
   "metadata": {},
   "outputs": [],
   "source": [
    "df.reset_index(drop=True, inplace=True)\n",
    "lag_features = [\"High\", \"Low\", \"Volume\", \"Turnover\", \"Trades\"]\n",
    "window1 = 3\n",
    "window2 = 7\n",
    "window3 = 30\n",
    "\n",
    "df_rolled_3d = df[lag_features].rolling(window=window1, min_periods=0)\n",
    "df_rolled_7d = df[lag_features].rolling(window=window2, min_periods=0)\n",
    "df_rolled_30d = df[lag_features].rolling(window=window3, min_periods=0)\n",
    "\n",
    "df_mean_3d = df_rolled_3d.mean().shift(1).reset_index().astype(np.float32)\n",
    "df_mean_7d = df_rolled_7d.mean().shift(1).reset_index().astype(np.float32)\n",
    "df_mean_30d = df_rolled_30d.mean().shift(1).reset_index().astype(np.float32)\n",
    "\n",
    "df_std_3d = df_rolled_3d.std().shift(1).reset_index().astype(np.float32)\n",
    "df_std_7d = df_rolled_7d.std().shift(1).reset_index().astype(np.float32)\n",
    "df_std_30d = df_rolled_30d.std().shift(1).reset_index().astype(np.float32)\n",
    "\n",
    "for feature in lag_features:\n",
    "    df[f\"{feature}_mean_lag{window1}\"] = df_mean_3d[feature]\n",
    "    df[f\"{feature}_mean_lag{window2}\"] = df_mean_7d[feature]\n",
    "    df[f\"{feature}_mean_lag{window3}\"] = df_mean_30d[feature]\n",
    "    \n",
    "    df[f\"{feature}_std_lag{window1}\"] = df_std_3d[feature]\n",
    "    df[f\"{feature}_std_lag{window2}\"] = df_std_7d[feature]\n",
    "    df[f\"{feature}_std_lag{window3}\"] = df_std_30d[feature]\n",
    "\n",
    "df.fillna(df.mean(), inplace=True)\n",
    "\n",
    "df.set_index(\"Date\", drop=False, inplace=True)\n",
    "df.head()"
   ]
  },
  {
   "cell_type": "code",
   "execution_count": null,
   "id": "08938d61-46f4-4b16-a00f-5baa38b8e69a",
   "metadata": {},
   "outputs": [],
   "source": [
    "df.Date = pd.to_datetime(df.Date, format=\"%Y-%m-%d\")\n",
    "df[\"month\"] = df.Date.dt.month\n",
    "df[\"week\"] = df.Date.dt.week\n",
    "df[\"day\"] = df.Date.dt.day\n",
    "df[\"day_of_week\"] = df.Date.dt.dayofweek\n",
    "df.head()"
   ]
  },
  {
   "cell_type": "code",
   "execution_count": null,
   "id": "5ecb673e-0a38-48d4-ac3a-51391fbedf57",
   "metadata": {},
   "outputs": [],
   "source": [
    "df_train = df[df.Date < \"2019\"]\n",
    "df_valid = df[df.Date >= \"2019\"]\n",
    "\n",
    "exogenous_features = [\"High_mean_lag3\", \"High_std_lag3\", \"Low_mean_lag3\", \"Low_std_lag3\",\n",
    "                      \"Volume_mean_lag3\", \"Volume_std_lag3\", \"Turnover_mean_lag3\",\n",
    "                      \"Turnover_std_lag3\", \"Trades_mean_lag3\", \"Trades_std_lag3\",\n",
    "                      \"High_mean_lag7\", \"High_std_lag7\", \"Low_mean_lag7\", \"Low_std_lag7\",\n",
    "                      \"Volume_mean_lag7\", \"Volume_std_lag7\", \"Turnover_mean_lag7\",\n",
    "                      \"Turnover_std_lag7\", \"Trades_mean_lag7\", \"Trades_std_lag7\",\n",
    "                      \"High_mean_lag30\", \"High_std_lag30\", \"Low_mean_lag30\", \"Low_std_lag30\",\n",
    "                      \"Volume_mean_lag30\", \"Volume_std_lag30\", \"Turnover_mean_lag30\",\n",
    "                      \"Turnover_std_lag30\", \"Trades_mean_lag30\", \"Trades_std_lag30\",\n",
    "                      \"month\", \"week\", \"day\", \"day_of_week\"]"
   ]
  },
  {
   "cell_type": "code",
   "execution_count": null,
   "id": "5e58cdbb-e6a0-4dd3-b385-af7887c3199a",
   "metadata": {},
   "outputs": [],
   "source": [
    "df_valid.head()"
   ]
  },
  {
   "cell_type": "code",
   "execution_count": null,
   "id": "ff1d4bb7-862a-485a-a217-29032d47c65f",
   "metadata": {},
   "outputs": [],
   "source": [
    "model = auto_arima(df_train.VWAP, exogenous=df_train[exogenous_features], trace=True, error_action=\"ignore\", suppress_warnings=True)\n",
    "model.fit(df_train.VWAP, exogenous=df_train[exogenous_features])"
   ]
  },
  {
   "cell_type": "code",
   "execution_count": null,
   "id": "e77f3c92-7d13-47ea-af35-a67df1a6887e",
   "metadata": {},
   "outputs": [],
   "source": [
    "forecast = model.predict(n_periods=len(df_valid), exogenous=df_valid[exogenous_features])\n",
    "df_valid.loc[:,\"Forecast_ARIMAX\"] = forecast"
   ]
  },
  {
   "cell_type": "code",
   "execution_count": null,
   "id": "d8234c18-dcff-4df9-9809-a983d18f1d74",
   "metadata": {},
   "outputs": [],
   "source": [
    "df_valid[[\"VWAP\", \"Forecast_ARIMAX\"]].plot(figsize=(14, 7))"
   ]
  },
  {
   "cell_type": "code",
   "execution_count": null,
   "id": "e2e56f7a-dd3f-4727-955f-d90b4a20e21f",
   "metadata": {},
   "outputs": [],
   "source": [
    "print(\"RMSE of Auto ARIMAX:\", np.sqrt(mean_squared_error(df_valid.VWAP, df_valid.Forecast_ARIMAX)))\n",
    "print(\" MAE of Auto ARIMAX:\", mean_absolute_error(df_valid.VWAP, df_valid.Forecast_ARIMAX))"
   ]
  },
  {
   "cell_type": "markdown",
   "id": "73a708dd-37ff-4987-a1ef-de572f563f57",
   "metadata": {},
   "source": [
    "### Challenge: repeat the above steps for the ADANIPORTS data (in ADANIPORTS.csv)."
   ]
  },
  {
   "cell_type": "code",
   "execution_count": null,
   "id": "124bfa71-8a02-4f5f-b2e1-0bf6b9300079",
   "metadata": {},
   "outputs": [],
   "source": [
    "# (it's probably easiest to just change the code near the beginning of this notebook rather than\n",
    "# attempt to copy it below, but you can do either!"
   ]
  },
  {
   "cell_type": "code",
   "execution_count": null,
   "id": "97f69d80-0f56-4f3d-b42d-3f6723de11fc",
   "metadata": {},
   "outputs": [],
   "source": []
  }
 ],
 "metadata": {
  "kernelspec": {
   "display_name": "Python 3 (ipykernel)",
   "language": "python",
   "name": "python3"
  },
  "language_info": {
   "codemirror_mode": {
    "name": "ipython",
    "version": 3
   },
   "file_extension": ".py",
   "mimetype": "text/x-python",
   "name": "python",
   "nbconvert_exporter": "python",
   "pygments_lexer": "ipython3",
   "version": "3.7.10"
  }
 },
 "nbformat": 4,
 "nbformat_minor": 5
}
